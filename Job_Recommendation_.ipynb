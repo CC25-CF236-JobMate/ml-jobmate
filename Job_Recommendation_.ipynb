{
  "nbformat": 4,
  "nbformat_minor": 0,
  "metadata": {
    "colab": {
      "provenance": []
    },
    "kernelspec": {
      "name": "python3",
      "display_name": "Python 3"
    },
    "language_info": {
      "name": "python"
    }
  },
  "cells": [
    {
      "cell_type": "markdown",
      "source": [
        "# Job Recommendation JobMate"
      ],
      "metadata": {
        "id": "GQuYpRpRmRAD"
      }
    },
    {
      "cell_type": "markdown",
      "source": [
        "# **Data Preparation**"
      ],
      "metadata": {
        "id": "DdM8ElvmnbG9"
      }
    },
    {
      "cell_type": "code",
      "execution_count": 26,
      "metadata": {
        "colab": {
          "base_uri": "https://localhost:8080/"
        },
        "id": "k9irfS7s3mhQ",
        "outputId": "14575e4f-6a30-48ee-ae80-0bd1905c65ae"
      },
      "outputs": [
        {
          "output_type": "stream",
          "name": "stdout",
          "text": [
            "Downloading...\n",
            "From (original): https://drive.google.com/uc?id=1yF3Lye2X5rwXfXxXB_xg2WIi1Tjyalhm\n",
            "From (redirected): https://drive.google.com/uc?id=1yF3Lye2X5rwXfXxXB_xg2WIi1Tjyalhm&confirm=t&uuid=3fee4868-0594-4d24-a852-bb9f3ad0fb31\n",
            "To: /content/job.zip\n",
            "100% 480M/480M [00:07<00:00, 65.8MB/s]\n",
            "Downloading...\n",
            "From: https://drive.google.com/uc?id=1udgT1OHVLAIe5FcczaxP4PONFmuRp8Y2\n",
            "To: /content/resume.zip\n",
            "100% 392k/392k [00:00<00:00, 6.75MB/s]\n"
          ]
        }
      ],
      "source": [
        "!gdown 1yF3Lye2X5rwXfXxXB_xg2WIi1Tjyalhm -O job.zip\n",
        "!gdown 1udgT1OHVLAIe5FcczaxP4PONFmuRp8Y2 -O resume.zip\n",
        "\n",
        "import zipfile\n",
        "\n",
        "# Ekstrak job.zip\n",
        "with zipfile.ZipFile(\"job.zip\", 'r') as zip_ref:\n",
        "    zip_ref.extractall(\"data/job\")\n",
        "\n",
        "# Ekstrak resume.zip\n",
        "with zipfile.ZipFile(\"resume.zip\", 'r') as zip_ref:\n",
        "    zip_ref.extractall(\"data/resume\")"
      ]
    },
    {
      "cell_type": "code",
      "source": [
        "import os\n",
        "print(os.listdir('data/job'))"
      ],
      "metadata": {
        "colab": {
          "base_uri": "https://localhost:8080/"
        },
        "id": "KL30W6X26c1p",
        "outputId": "b22cf72d-fc37-4f3c-d01f-4607a2335ceb"
      },
      "execution_count": 27,
      "outputs": [
        {
          "output_type": "stream",
          "name": "stdout",
          "text": [
            "['job_descriptions.csv']\n"
          ]
        }
      ]
    },
    {
      "cell_type": "code",
      "source": [
        "import os\n",
        "print(os.listdir('data/resume'))"
      ],
      "metadata": {
        "colab": {
          "base_uri": "https://localhost:8080/"
        },
        "id": "rnsQK2d86rzi",
        "outputId": "97e23fa3-39bc-4427-eb41-5d293670cff9"
      },
      "execution_count": 28,
      "outputs": [
        {
          "output_type": "stream",
          "name": "stdout",
          "text": [
            "['UpdatedResumeDataSet.csv']\n"
          ]
        }
      ]
    },
    {
      "cell_type": "code",
      "source": [
        "import pandas as pd\n",
        "\n",
        "# Load file dari path yang benar\n",
        "job_df = pd.read_csv('data/job/job_descriptions.csv')\n",
        "resume_df = pd.read_csv('data/resume/UpdatedResumeDataSet.csv')\n",
        "\n",
        "# Pastikan kolom yang diambil sesuai dengan isi file\n",
        "job_df = job_df[['Job Title', 'Job Description']].dropna().reset_index(drop=True)\n",
        "resume_df = resume_df[['Resume', 'Category']].dropna().reset_index(drop=True)\n",
        "\n",
        "# Cek jumlah data\n",
        "print(\"Jumlah lowongan:\", len(job_df))\n",
        "print(\"Jumlah resume:\", len(resume_df))\n",
        "\n",
        "# Tampilkan\n",
        "job_df.head()"
      ],
      "metadata": {
        "colab": {
          "base_uri": "https://localhost:8080/",
          "height": 241
        },
        "id": "Y4VpPaWi6DOg",
        "outputId": "18c50773-68d6-4954-8de6-7b78c017311c"
      },
      "execution_count": 29,
      "outputs": [
        {
          "output_type": "stream",
          "name": "stdout",
          "text": [
            "Jumlah lowongan: 1615940\n",
            "Jumlah resume: 962\n"
          ]
        },
        {
          "output_type": "execute_result",
          "data": {
            "text/plain": [
              "                      Job Title  \\\n",
              "0  Digital Marketing Specialist   \n",
              "1                 Web Developer   \n",
              "2            Operations Manager   \n",
              "3              Network Engineer   \n",
              "4                 Event Manager   \n",
              "\n",
              "                                     Job Description  \n",
              "0  Social Media Managers oversee an organizations...  \n",
              "1  Frontend Web Developers design and implement u...  \n",
              "2  Quality Control Managers establish and enforce...  \n",
              "3  Wireless Network Engineers design, implement, ...  \n",
              "4  A Conference Manager coordinates and manages c...  "
            ],
            "text/html": [
              "\n",
              "  <div id=\"df-15077702-4ba6-4009-98bb-1e5dbc727b46\" class=\"colab-df-container\">\n",
              "    <div>\n",
              "<style scoped>\n",
              "    .dataframe tbody tr th:only-of-type {\n",
              "        vertical-align: middle;\n",
              "    }\n",
              "\n",
              "    .dataframe tbody tr th {\n",
              "        vertical-align: top;\n",
              "    }\n",
              "\n",
              "    .dataframe thead th {\n",
              "        text-align: right;\n",
              "    }\n",
              "</style>\n",
              "<table border=\"1\" class=\"dataframe\">\n",
              "  <thead>\n",
              "    <tr style=\"text-align: right;\">\n",
              "      <th></th>\n",
              "      <th>Job Title</th>\n",
              "      <th>Job Description</th>\n",
              "    </tr>\n",
              "  </thead>\n",
              "  <tbody>\n",
              "    <tr>\n",
              "      <th>0</th>\n",
              "      <td>Digital Marketing Specialist</td>\n",
              "      <td>Social Media Managers oversee an organizations...</td>\n",
              "    </tr>\n",
              "    <tr>\n",
              "      <th>1</th>\n",
              "      <td>Web Developer</td>\n",
              "      <td>Frontend Web Developers design and implement u...</td>\n",
              "    </tr>\n",
              "    <tr>\n",
              "      <th>2</th>\n",
              "      <td>Operations Manager</td>\n",
              "      <td>Quality Control Managers establish and enforce...</td>\n",
              "    </tr>\n",
              "    <tr>\n",
              "      <th>3</th>\n",
              "      <td>Network Engineer</td>\n",
              "      <td>Wireless Network Engineers design, implement, ...</td>\n",
              "    </tr>\n",
              "    <tr>\n",
              "      <th>4</th>\n",
              "      <td>Event Manager</td>\n",
              "      <td>A Conference Manager coordinates and manages c...</td>\n",
              "    </tr>\n",
              "  </tbody>\n",
              "</table>\n",
              "</div>\n",
              "    <div class=\"colab-df-buttons\">\n",
              "\n",
              "  <div class=\"colab-df-container\">\n",
              "    <button class=\"colab-df-convert\" onclick=\"convertToInteractive('df-15077702-4ba6-4009-98bb-1e5dbc727b46')\"\n",
              "            title=\"Convert this dataframe to an interactive table.\"\n",
              "            style=\"display:none;\">\n",
              "\n",
              "  <svg xmlns=\"http://www.w3.org/2000/svg\" height=\"24px\" viewBox=\"0 -960 960 960\">\n",
              "    <path d=\"M120-120v-720h720v720H120Zm60-500h600v-160H180v160Zm220 220h160v-160H400v160Zm0 220h160v-160H400v160ZM180-400h160v-160H180v160Zm440 0h160v-160H620v160ZM180-180h160v-160H180v160Zm440 0h160v-160H620v160Z\"/>\n",
              "  </svg>\n",
              "    </button>\n",
              "\n",
              "  <style>\n",
              "    .colab-df-container {\n",
              "      display:flex;\n",
              "      gap: 12px;\n",
              "    }\n",
              "\n",
              "    .colab-df-convert {\n",
              "      background-color: #E8F0FE;\n",
              "      border: none;\n",
              "      border-radius: 50%;\n",
              "      cursor: pointer;\n",
              "      display: none;\n",
              "      fill: #1967D2;\n",
              "      height: 32px;\n",
              "      padding: 0 0 0 0;\n",
              "      width: 32px;\n",
              "    }\n",
              "\n",
              "    .colab-df-convert:hover {\n",
              "      background-color: #E2EBFA;\n",
              "      box-shadow: 0px 1px 2px rgba(60, 64, 67, 0.3), 0px 1px 3px 1px rgba(60, 64, 67, 0.15);\n",
              "      fill: #174EA6;\n",
              "    }\n",
              "\n",
              "    .colab-df-buttons div {\n",
              "      margin-bottom: 4px;\n",
              "    }\n",
              "\n",
              "    [theme=dark] .colab-df-convert {\n",
              "      background-color: #3B4455;\n",
              "      fill: #D2E3FC;\n",
              "    }\n",
              "\n",
              "    [theme=dark] .colab-df-convert:hover {\n",
              "      background-color: #434B5C;\n",
              "      box-shadow: 0px 1px 3px 1px rgba(0, 0, 0, 0.15);\n",
              "      filter: drop-shadow(0px 1px 2px rgba(0, 0, 0, 0.3));\n",
              "      fill: #FFFFFF;\n",
              "    }\n",
              "  </style>\n",
              "\n",
              "    <script>\n",
              "      const buttonEl =\n",
              "        document.querySelector('#df-15077702-4ba6-4009-98bb-1e5dbc727b46 button.colab-df-convert');\n",
              "      buttonEl.style.display =\n",
              "        google.colab.kernel.accessAllowed ? 'block' : 'none';\n",
              "\n",
              "      async function convertToInteractive(key) {\n",
              "        const element = document.querySelector('#df-15077702-4ba6-4009-98bb-1e5dbc727b46');\n",
              "        const dataTable =\n",
              "          await google.colab.kernel.invokeFunction('convertToInteractive',\n",
              "                                                    [key], {});\n",
              "        if (!dataTable) return;\n",
              "\n",
              "        const docLinkHtml = 'Like what you see? Visit the ' +\n",
              "          '<a target=\"_blank\" href=https://colab.research.google.com/notebooks/data_table.ipynb>data table notebook</a>'\n",
              "          + ' to learn more about interactive tables.';\n",
              "        element.innerHTML = '';\n",
              "        dataTable['output_type'] = 'display_data';\n",
              "        await google.colab.output.renderOutput(dataTable, element);\n",
              "        const docLink = document.createElement('div');\n",
              "        docLink.innerHTML = docLinkHtml;\n",
              "        element.appendChild(docLink);\n",
              "      }\n",
              "    </script>\n",
              "  </div>\n",
              "\n",
              "\n",
              "    <div id=\"df-f99282ce-3f10-450d-879b-1b5cf4b3b0b4\">\n",
              "      <button class=\"colab-df-quickchart\" onclick=\"quickchart('df-f99282ce-3f10-450d-879b-1b5cf4b3b0b4')\"\n",
              "                title=\"Suggest charts\"\n",
              "                style=\"display:none;\">\n",
              "\n",
              "<svg xmlns=\"http://www.w3.org/2000/svg\" height=\"24px\"viewBox=\"0 0 24 24\"\n",
              "     width=\"24px\">\n",
              "    <g>\n",
              "        <path d=\"M19 3H5c-1.1 0-2 .9-2 2v14c0 1.1.9 2 2 2h14c1.1 0 2-.9 2-2V5c0-1.1-.9-2-2-2zM9 17H7v-7h2v7zm4 0h-2V7h2v10zm4 0h-2v-4h2v4z\"/>\n",
              "    </g>\n",
              "</svg>\n",
              "      </button>\n",
              "\n",
              "<style>\n",
              "  .colab-df-quickchart {\n",
              "      --bg-color: #E8F0FE;\n",
              "      --fill-color: #1967D2;\n",
              "      --hover-bg-color: #E2EBFA;\n",
              "      --hover-fill-color: #174EA6;\n",
              "      --disabled-fill-color: #AAA;\n",
              "      --disabled-bg-color: #DDD;\n",
              "  }\n",
              "\n",
              "  [theme=dark] .colab-df-quickchart {\n",
              "      --bg-color: #3B4455;\n",
              "      --fill-color: #D2E3FC;\n",
              "      --hover-bg-color: #434B5C;\n",
              "      --hover-fill-color: #FFFFFF;\n",
              "      --disabled-bg-color: #3B4455;\n",
              "      --disabled-fill-color: #666;\n",
              "  }\n",
              "\n",
              "  .colab-df-quickchart {\n",
              "    background-color: var(--bg-color);\n",
              "    border: none;\n",
              "    border-radius: 50%;\n",
              "    cursor: pointer;\n",
              "    display: none;\n",
              "    fill: var(--fill-color);\n",
              "    height: 32px;\n",
              "    padding: 0;\n",
              "    width: 32px;\n",
              "  }\n",
              "\n",
              "  .colab-df-quickchart:hover {\n",
              "    background-color: var(--hover-bg-color);\n",
              "    box-shadow: 0 1px 2px rgba(60, 64, 67, 0.3), 0 1px 3px 1px rgba(60, 64, 67, 0.15);\n",
              "    fill: var(--button-hover-fill-color);\n",
              "  }\n",
              "\n",
              "  .colab-df-quickchart-complete:disabled,\n",
              "  .colab-df-quickchart-complete:disabled:hover {\n",
              "    background-color: var(--disabled-bg-color);\n",
              "    fill: var(--disabled-fill-color);\n",
              "    box-shadow: none;\n",
              "  }\n",
              "\n",
              "  .colab-df-spinner {\n",
              "    border: 2px solid var(--fill-color);\n",
              "    border-color: transparent;\n",
              "    border-bottom-color: var(--fill-color);\n",
              "    animation:\n",
              "      spin 1s steps(1) infinite;\n",
              "  }\n",
              "\n",
              "  @keyframes spin {\n",
              "    0% {\n",
              "      border-color: transparent;\n",
              "      border-bottom-color: var(--fill-color);\n",
              "      border-left-color: var(--fill-color);\n",
              "    }\n",
              "    20% {\n",
              "      border-color: transparent;\n",
              "      border-left-color: var(--fill-color);\n",
              "      border-top-color: var(--fill-color);\n",
              "    }\n",
              "    30% {\n",
              "      border-color: transparent;\n",
              "      border-left-color: var(--fill-color);\n",
              "      border-top-color: var(--fill-color);\n",
              "      border-right-color: var(--fill-color);\n",
              "    }\n",
              "    40% {\n",
              "      border-color: transparent;\n",
              "      border-right-color: var(--fill-color);\n",
              "      border-top-color: var(--fill-color);\n",
              "    }\n",
              "    60% {\n",
              "      border-color: transparent;\n",
              "      border-right-color: var(--fill-color);\n",
              "    }\n",
              "    80% {\n",
              "      border-color: transparent;\n",
              "      border-right-color: var(--fill-color);\n",
              "      border-bottom-color: var(--fill-color);\n",
              "    }\n",
              "    90% {\n",
              "      border-color: transparent;\n",
              "      border-bottom-color: var(--fill-color);\n",
              "    }\n",
              "  }\n",
              "</style>\n",
              "\n",
              "      <script>\n",
              "        async function quickchart(key) {\n",
              "          const quickchartButtonEl =\n",
              "            document.querySelector('#' + key + ' button');\n",
              "          quickchartButtonEl.disabled = true;  // To prevent multiple clicks.\n",
              "          quickchartButtonEl.classList.add('colab-df-spinner');\n",
              "          try {\n",
              "            const charts = await google.colab.kernel.invokeFunction(\n",
              "                'suggestCharts', [key], {});\n",
              "          } catch (error) {\n",
              "            console.error('Error during call to suggestCharts:', error);\n",
              "          }\n",
              "          quickchartButtonEl.classList.remove('colab-df-spinner');\n",
              "          quickchartButtonEl.classList.add('colab-df-quickchart-complete');\n",
              "        }\n",
              "        (() => {\n",
              "          let quickchartButtonEl =\n",
              "            document.querySelector('#df-f99282ce-3f10-450d-879b-1b5cf4b3b0b4 button');\n",
              "          quickchartButtonEl.style.display =\n",
              "            google.colab.kernel.accessAllowed ? 'block' : 'none';\n",
              "        })();\n",
              "      </script>\n",
              "    </div>\n",
              "\n",
              "    </div>\n",
              "  </div>\n"
            ],
            "application/vnd.google.colaboratory.intrinsic+json": {
              "type": "dataframe",
              "variable_name": "job_df"
            }
          },
          "metadata": {},
          "execution_count": 29
        }
      ]
    },
    {
      "cell_type": "markdown",
      "source": [
        "# Data Preprocessing"
      ],
      "metadata": {
        "id": "9TDX2XZln0s4"
      }
    },
    {
      "cell_type": "code",
      "source": [
        "import re\n",
        "\n",
        "def basic_preprocess(text):\n",
        "    text = text.lower()\n",
        "    text = re.sub(r'[^a-z\\s]', '', text)\n",
        "    text = re.sub(r'\\s+', ' ', text).strip()\n",
        "    return text"
      ],
      "metadata": {
        "id": "LpOBji60n3mR"
      },
      "execution_count": 30,
      "outputs": []
    },
    {
      "cell_type": "code",
      "source": [
        "job_df['Cleaned Description'] = job_df['Job Description'].apply(basic_preprocess)\n",
        "resume_df['Cleaned Resume'] = resume_df['Resume'].apply(basic_preprocess)\n",
        "\n",
        "# Cek hasil sample\n",
        "print(resume_df['Cleaned Resume'][0][:300])\n",
        "print(job_df['Cleaned Description'][0][:300])"
      ],
      "metadata": {
        "colab": {
          "base_uri": "https://localhost:8080/"
        },
        "id": "B2LHOJzAoDT0",
        "outputId": "7fe895ed-e398-461e-dbcc-fcae8ef0f3cb"
      },
      "execution_count": 31,
      "outputs": [
        {
          "output_type": "stream",
          "name": "stdout",
          "text": [
            "skills programming languages python pandas numpy scipy scikitlearn matplotlib sql java javascriptjquery machine learning regression svm nave bayes knn random forest decision trees boosting techniques cluster analysis word embedding sentiment analysis natural language processing dimensionality reduct\n",
            "social media managers oversee an organizations social media presence they create and schedule content engage with followers and analyze social media metrics to drive brand awareness and engagement\n"
          ]
        }
      ]
    },
    {
      "cell_type": "code",
      "source": [
        "# Vectorization\n",
        "from sklearn.feature_extraction.text import TfidfVectorizer\n",
        "from sklearn.metrics.pairwise import cosine_similarity\n",
        "\n",
        "vectorizer = TfidfVectorizer(max_features=5000)\n",
        "job_vectors = vectorizer.fit_transform(job_df['Cleaned Description'])\n",
        "resume_vector = vectorizer.transform([resume_df['Cleaned Resume'][0]])"
      ],
      "metadata": {
        "id": "x3iN7x7eoGzH"
      },
      "execution_count": 32,
      "outputs": []
    },
    {
      "cell_type": "code",
      "source": [
        "# Similarity\n",
        "similarities = cosine_similarity(resume_vector, job_vectors).flatten()\n",
        "top_indices = similarities.argsort()[-5:][::-1]\n",
        "top_jobs = job_df.iloc[top_indices].copy()\n",
        "top_jobs['Similarity Score'] = similarities[top_indices]"
      ],
      "metadata": {
        "id": "ao7hH31Non2f"
      },
      "execution_count": 33,
      "outputs": []
    },
    {
      "cell_type": "markdown",
      "source": [
        "**Pengujian**"
      ],
      "metadata": {
        "id": "oylRUErSqZ-i"
      }
    },
    {
      "cell_type": "code",
      "source": [
        "# Menampilkan hasil rekomendasi dengan skor similarity\n",
        "for idx, row in top_jobs.iterrows():\n",
        "    print(f\"--- Rekomendasi ---\")\n",
        "    print(f\"Job Title        : {row['Job Title']}\")\n",
        "    print(f\"Similarity Score : {row['Similarity Score']:.4f}\")\n",
        "    print(f\"Job Description  : {row['Job Description'][:200]}...\\n\")"
      ],
      "metadata": {
        "colab": {
          "base_uri": "https://localhost:8080/"
        },
        "id": "0whANCW4p3AS",
        "outputId": "df6c2ffa-9464-4d7f-d93f-13a99ea30f8d"
      },
      "execution_count": 34,
      "outputs": [
        {
          "output_type": "stream",
          "name": "stdout",
          "text": [
            "--- Rekomendasi ---\n",
            "Job Title        : Data Analyst\n",
            "Similarity Score : 0.2557\n",
            "Job Description  : Data Scientists use their expertise in data analysis and machine learning to extract valuable insights and predictions from data. They build and train models, conduct statistical analysis, and communi...\n",
            "\n",
            "--- Rekomendasi ---\n",
            "Job Title        : Data Analyst\n",
            "Similarity Score : 0.2557\n",
            "Job Description  : Data Scientists use their expertise in data analysis and machine learning to extract valuable insights and predictions from data. They build and train models, conduct statistical analysis, and communi...\n",
            "\n",
            "--- Rekomendasi ---\n",
            "Job Title        : Data Analyst\n",
            "Similarity Score : 0.2557\n",
            "Job Description  : Data Scientists use their expertise in data analysis and machine learning to extract valuable insights and predictions from data. They build and train models, conduct statistical analysis, and communi...\n",
            "\n",
            "--- Rekomendasi ---\n",
            "Job Title        : Data Analyst\n",
            "Similarity Score : 0.2557\n",
            "Job Description  : Data Scientists use their expertise in data analysis and machine learning to extract valuable insights and predictions from data. They build and train models, conduct statistical analysis, and communi...\n",
            "\n",
            "--- Rekomendasi ---\n",
            "Job Title        : Data Analyst\n",
            "Similarity Score : 0.2557\n",
            "Job Description  : Data Scientists use their expertise in data analysis and machine learning to extract valuable insights and predictions from data. They build and train models, conduct statistical analysis, and communi...\n",
            "\n"
          ]
        }
      ]
    },
    {
      "cell_type": "code",
      "source": [
        "dummy_resume = \"\"\"\n",
        "I have experience in data analysis using Python, SQL, and Excel.\n",
        "I also build dashboards using Tableau and have knowledge of statistics, machine learning, and business intelligence.\n",
        "\"\"\"\n",
        "\n",
        "# Preprocess dummy resume\n",
        "dummy_resume_cleaned = basic_preprocess(dummy_resume)\n",
        "\n",
        "# Vectorize dummy resume\n",
        "dummy_vector = vectorizer.transform([dummy_resume_cleaned])\n",
        "\n",
        "# Hitung similarity\n",
        "dummy_similarities = cosine_similarity(dummy_vector, job_vectors).flatten()\n",
        "top_dummy_indices = dummy_similarities.argsort()[-5:][::-1]\n",
        "top_dummy_jobs = job_df.iloc[top_dummy_indices].copy()\n",
        "top_dummy_jobs['Similarity Score'] = dummy_similarities[top_dummy_indices]\n",
        "\n",
        "# Tampilkan hasilnya\n",
        "for idx, row in top_dummy_jobs.iterrows():\n",
        "    print(f\"--- Dummy Resume Rekomendasi ---\")\n",
        "    print(f\"Job Title        : {row['Job Title']}\")\n",
        "    print(f\"Similarity Score : {row['Similarity Score']:.4f}\")\n",
        "    print(f\"Job Description  : {row['Job Description'][:200]}...\\n\")"
      ],
      "metadata": {
        "colab": {
          "base_uri": "https://localhost:8080/"
        },
        "id": "3DAsl3Nop67y",
        "outputId": "78d3135b-d79c-4721-8157-9d97e726036a"
      },
      "execution_count": 35,
      "outputs": [
        {
          "output_type": "stream",
          "name": "stdout",
          "text": [
            "--- Dummy Resume Rekomendasi ---\n",
            "Job Title        : Database Developer\n",
            "Similarity Score : 0.2528\n",
            "Job Description  : SQL Database Developers design, implement, and maintain relational databases using SQL (Structured Query Language). They write queries, optimize database performance, and ensure data integrity and sec...\n",
            "\n",
            "--- Dummy Resume Rekomendasi ---\n",
            "Job Title        : Database Developer\n",
            "Similarity Score : 0.2528\n",
            "Job Description  : SQL Database Developers design, implement, and maintain relational databases using SQL (Structured Query Language). They write queries, optimize database performance, and ensure data integrity and sec...\n",
            "\n",
            "--- Dummy Resume Rekomendasi ---\n",
            "Job Title        : Database Developer\n",
            "Similarity Score : 0.2528\n",
            "Job Description  : SQL Database Developers design, implement, and maintain relational databases using SQL (Structured Query Language). They write queries, optimize database performance, and ensure data integrity and sec...\n",
            "\n",
            "--- Dummy Resume Rekomendasi ---\n",
            "Job Title        : Database Developer\n",
            "Similarity Score : 0.2528\n",
            "Job Description  : SQL Database Developers design, implement, and maintain relational databases using SQL (Structured Query Language). They write queries, optimize database performance, and ensure data integrity and sec...\n",
            "\n",
            "--- Dummy Resume Rekomendasi ---\n",
            "Job Title        : Database Developer\n",
            "Similarity Score : 0.2528\n",
            "Job Description  : SQL Database Developers design, implement, and maintain relational databases using SQL (Structured Query Language). They write queries, optimize database performance, and ensure data integrity and sec...\n",
            "\n"
          ]
        }
      ]
    },
    {
      "cell_type": "code",
      "source": [
        "import matplotlib.pyplot as plt\n",
        "\n",
        "plt.figure(figsize=(10, 6))\n",
        "plt.barh(top_dummy_jobs['Job Title'], top_dummy_jobs['Similarity Score'], color='skyblue')\n",
        "plt.xlabel(\"Similarity Score\")\n",
        "plt.title(\"Top 5 Job Recommendations for Dummy Resume\")\n",
        "plt.gca().invert_yaxis()\n",
        "plt.grid(axis='x', linestyle='--', alpha=0.7)\n",
        "plt.tight_layout()\n",
        "plt.show()"
      ],
      "metadata": {
        "colab": {
          "base_uri": "https://localhost:8080/",
          "height": 607
        },
        "id": "oW8fw7gQqgWj",
        "outputId": "4799b2ca-a601-4081-caa8-5e2504035cac"
      },
      "execution_count": 36,
      "outputs": [
        {
          "output_type": "display_data",
          "data": {
            "text/plain": [
              "<Figure size 1000x600 with 1 Axes>"
            ],
            "image/png": "[encoded data removed]"
          },
          "metadata": {}
        }
      ]
    },
    {
      "cell_type": "code",
      "source": [
        "# === Save to .pkl and .npz ===\n",
        "with open(\"tfidf_vectorizer.pkl\", \"wb\") as f:\n",
        "    pickle.dump(vectorizer, f)\n",
        "\n",
        "sparse.save_npz(\"job_vectors.npz\", job_vectors)\n",
        "job_df[['Job Title', 'Job Description', 'Cleaned Description']].to_csv(\"job_metadata.csv\", index=False)\n",
        "\n",
        "print(\"✅ Saved tfidf_vectorizer.pkl, job_vectors.npz, and job_metadata.csv\")"
      ],
      "metadata": {
        "colab": {
          "base_uri": "https://localhost:8080/"
        },
        "id": "nL96okE2xqFc",
        "outputId": "66d13fa8-a303-47a2-9915-8b5b0169e02b"
      },
      "execution_count": 37,
      "outputs": [
        {
          "output_type": "stream",
          "name": "stdout",
          "text": [
            "✅ Saved tfidf_vectorizer.pkl, job_vectors.npz, and job_metadata.csv\n"
          ]
        }
      ]
    },
    {
      "cell_type": "markdown",
      "source": [
        "Supervised"
      ],
      "metadata": {
        "id": "hjmPes-42hBr"
      }
    },
    {
      "cell_type": "code",
      "source": [
        "from sklearn.model_selection import train_test_split\n",
        "from sklearn.linear_model import LogisticRegression\n",
        "from sklearn.metrics import classification_report\n",
        "from sklearn.feature_extraction.text import TfidfVectorizer\n",
        "\n",
        "# TF-IDF\n",
        "vectorizer = TfidfVectorizer(max_features=5000)\n",
        "X = vectorizer.fit_transform(resume_df['Cleaned Resume'])\n",
        "y = resume_df['Category']\n",
        "\n",
        "# Split\n",
        "X_train, X_test, y_train, y_test = train_test_split(X, y, test_size=0.2, random_state=42)\n",
        "\n",
        "# Train\n",
        "clf = LogisticRegression(max_iter=200)\n",
        "clf.fit(X_train, y_train)\n",
        "\n",
        "# Predict & Evaluate\n",
        "y_pred = clf.predict(X_test)\n",
        "print(classification_report(y_test, y_pred))"
      ],
      "metadata": {
        "colab": {
          "base_uri": "https://localhost:8080/"
        },
        "id": "34nZlt_d2VoK",
        "outputId": "f934e232-9287-4a9d-a5e7-160610610c44"
      },
      "execution_count": 38,
      "outputs": [
        {
          "output_type": "stream",
          "name": "stdout",
          "text": [
            "                           precision    recall  f1-score   support\n",
            "\n",
            "                 Advocate       1.00      1.00      1.00         3\n",
            "                     Arts       1.00      1.00      1.00         6\n",
            "       Automation Testing       1.00      1.00      1.00         5\n",
            "               Blockchain       1.00      1.00      1.00         7\n",
            "         Business Analyst       1.00      1.00      1.00         4\n",
            "           Civil Engineer       1.00      1.00      1.00         9\n",
            "             Data Science       1.00      1.00      1.00         5\n",
            "                 Database       1.00      1.00      1.00         8\n",
            "          DevOps Engineer       1.00      0.93      0.96        14\n",
            "         DotNet Developer       1.00      1.00      1.00         5\n",
            "            ETL Developer       1.00      1.00      1.00         7\n",
            "   Electrical Engineering       1.00      1.00      1.00         6\n",
            "                       HR       1.00      1.00      1.00        12\n",
            "                   Hadoop       1.00      1.00      1.00         4\n",
            "       Health and fitness       1.00      1.00      1.00         7\n",
            "           Java Developer       1.00      1.00      1.00        15\n",
            "      Mechanical Engineer       1.00      1.00      1.00         8\n",
            "Network Security Engineer       1.00      1.00      1.00         3\n",
            "       Operations Manager       1.00      1.00      1.00        12\n",
            "                      PMO       0.88      1.00      0.93         7\n",
            "         Python Developer       1.00      1.00      1.00        10\n",
            "            SAP Developer       1.00      1.00      1.00         7\n",
            "                    Sales       1.00      1.00      1.00         8\n",
            "                  Testing       1.00      1.00      1.00        16\n",
            "            Web Designing       1.00      1.00      1.00         5\n",
            "\n",
            "                 accuracy                           0.99       193\n",
            "                macro avg       0.99      1.00      1.00       193\n",
            "             weighted avg       1.00      0.99      0.99       193\n",
            "\n"
          ]
        }
      ]
    },
    {
      "cell_type": "code",
      "source": [
        "import pickle\n",
        "\n",
        "# Simpan vectorizer ke file .pkl\n",
        "with open(\"supervised_vectorizer.pkl\", \"wb\") as f:\n",
        "    pickle.dump(vectorizer, f)\n",
        "\n",
        "# Simpan model Logistic Regression ke file .pkl\n",
        "with open(\"job_classifier.pkl\", \"wb\") as f:\n",
        "    pickle.dump(clf, f)\n",
        "\n",
        "print(\"✅ Model dan vectorizer berhasil disimpan sebagai .pkl\")"
      ],
      "metadata": {
        "colab": {
          "base_uri": "https://localhost:8080/"
        },
        "id": "w3hrPC0H4kNU",
        "outputId": "a478c5e9-bea6-464e-c921-71a0a4c082ec"
      },
      "execution_count": 39,
      "outputs": [
        {
          "output_type": "stream",
          "name": "stdout",
          "text": [
            "✅ Model dan vectorizer berhasil disimpan sebagai .pkl\n"
          ]
        }
      ]
    },
    {
      "cell_type": "markdown",
      "source": [
        "unsupervised\n",
        "- cosine similarity → untuk rekomendasi job mirip\n",
        "\n",
        "supervised\n",
        "- logistic regression → untuk klasifikasi jenis pekerjaan"
      ],
      "metadata": {
        "id": "Y-mqJZnD3Dig"
      }
    }
  ]
}